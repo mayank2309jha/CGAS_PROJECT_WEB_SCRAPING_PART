{
 "cells": [
  {
   "cell_type": "code",
   "execution_count": 20,
   "id": "1f2343fc",
   "metadata": {},
   "outputs": [],
   "source": [
    "import requests\n",
    "from bs4 import BeautifulSoup"
   ]
  },
  {
   "cell_type": "code",
   "execution_count": 21,
   "id": "88f7a29d",
   "metadata": {},
   "outputs": [
    {
     "name": "stdout",
     "output_type": "stream",
     "text": [
      "Fried Plantains With Powdered Sugar...and Rum\n"
     ]
    }
   ],
   "source": [
    "url = \"https://cosylab.iiitd.edu.in/recipedb/\"\n",
    "\n",
    "response = requests.get(url)\n",
    "\n",
    "soup = BeautifulSoup(response.text, 'html.parser')\n",
    "\n",
    "'''\n",
    "Step 1 = Find the div element in which there is name, image, link of recipe\n",
    "'''\n",
    "\n",
    "name_div = soup.select_one('body > div.container.pt-4 > div.row > div:nth-child(2) > center > h5.text-capitalize > a')\n",
    "image_div = soup.select_one('body > div.container.pt-4 > div.row > div:nth-child(2) > center > img')\n",
    "link_div = soup.select_one('body > div.container.pt-4 > div.row > div:nth-child(2) > center > h5.text-capitalize > a')\n",
    "\n",
    "name = name_div.text\n",
    "image_link = image_div.get('src')\n",
    "recipe_link = url[:-10]+link_div.get('href')\n",
    "print(name)"
   ]
  },
  {
   "cell_type": "code",
   "execution_count": 22,
   "id": "f6da71f8",
   "metadata": {},
   "outputs": [],
   "source": [
    "'''Step 2 = Get the macros. Proteins, Carbohydrates, Fats, Calories.'''\n",
    "response = requests.get(recipe_link)\n",
    "soup = BeautifulSoup(response.text, 'html.parser')\n",
    "\n",
    "# Find the table containing the macros\n",
    "macros_table = soup.select_one('body > div.container > div:nth-child(2) > div.col.s12.m7 > div > table')\n",
    "rows = macros_table.find_all('tr')\n",
    "\n",
    "cells = rows[1].find_all(['td', 'th'])\n",
    "cell_data = [cell.text.strip() for cell in cells]\n",
    "protein_amount_gms = cell_data[1]\n",
    "\n",
    "cells = rows[2].find_all(['td', 'th'])\n",
    "cell_data = [cell.text.strip() for cell in cells]\n",
    "energy_kcal = cell_data[1]\n",
    "\n",
    "cells = rows[3].find_all(['td', 'th'])\n",
    "cell_data = [cell.text.strip() for cell in cells]\n",
    "carbohydrates_gms = cell_data[1]\n",
    "\n",
    "cells = rows[4].find_all(['td', 'th'])\n",
    "cell_data = [cell.text.strip() for cell in cells]\n",
    "fats_gms = cell_data[1]"
   ]
  },
  {
   "cell_type": "code",
   "execution_count": 23,
   "id": "b3fcf0fa",
   "metadata": {},
   "outputs": [
    {
     "name": "stdout",
     "output_type": "stream",
     "text": [
      "\n",
      "                \n",
      "\n",
      " 1.\tIn large fry pan, add 1 tblsp oil. Heat oil to medium stage and lay each strip in the pan.(Fry 1 plantain in each batch). When the strips start to turn a golden brown, flip then over and add a little more oil.Fry the other side until golden and brown. \n",
      "\n",
      " 2.\tThere will not be much oil left in the pan. \n",
      "\n",
      " 3.\tSprinkle a little rum over the strips if desired. \n",
      "\n",
      " 4.\tSprinkle a little nutmeg on one side. \n",
      "\n",
      " 5.\tA dash of salt on the strips. \n",
      "\n",
      " 6.\tTake out the strips and place on a warm plate. Keep warm in a 250° oven. \n",
      "\n",
      " 7.\tFry the second batch. Follow the steps. \n",
      "\n",
      " 8.\tFry the third batch. Follow the steps. \n",
      "\n",
      " 9.\tWhen the frying is completed, take out the plates. Cut the strips in half of the length. Roll up and secure with toothpick. \n",
      "\n",
      " 10.\tPlace back on plate. \n",
      "\n",
      " 11.\tLet the strips cool, then take out the toothpicks. The plantains will hold the rolled shape. \n",
      "\n",
      " 12.\tSprinkle with powdered sugar right before serving. You can serve warm or cold, but if you serve warm the powdered sugar will soak in and you have have to pass separate powdered sugar, I pass a separate sifter after serving and each person can sift their own sugar on their serving. \n",
      "\n",
      " ---------------------------------------------------------------------------\n",
      "             \n",
      "\n"
     ]
    }
   ],
   "source": [
    "bottom_table = soup.select_one('body > div.container > div:nth-child(3)')\n",
    "div_items = bottom_table.find_all('div')\n",
    "procedure = div_items[12].text.split(\"|\")\n",
    "for item in procedure:\n",
    "    print(item)\n",
    "    print()"
   ]
  },
  {
   "cell_type": "code",
   "execution_count": 24,
   "id": "491c03a0",
   "metadata": {},
   "outputs": [
    {
     "name": "stdout",
     "output_type": "stream",
     "text": [
      "{'ingredient_name': 'plantain', 'quantity': '3', 'unit': '', 'state': 'ripe peeled sliced', 'energy': '655.14', 'carbohydrates': '171.2493', 'protein': '6.981', 'total_lipid': '1.9869'}\n",
      "{'ingredient_name': 'olive oil', 'quantity': '3 -4', 'unit': 'tablespoons', 'state': '', 'energy': '0.0', 'carbohydrates': '0.0', 'protein': '0.0', 'total_lipid': '0.0'}\n",
      "{'ingredient_name': 'sugar', 'quantity': '', 'unit': '', 'state': 'powdered', 'energy': '-', 'carbohydrates': '-', 'protein': '-', 'total_lipid': '-'}\n",
      "{'ingredient_name': 'rum', 'quantity': '3 -4', 'unit': 'tablespoons', 'state': '', 'energy': '-', 'carbohydrates': '-', 'protein': '-', 'total_lipid': '-'}\n",
      "{'ingredient_name': 'nutmeg', 'quantity': '', 'unit': '', 'state': '', 'energy': '-', 'carbohydrates': '-', 'protein': '-', 'total_lipid': '-'}\n",
      "{'ingredient_name': 'salt', 'quantity': '', 'unit': '', 'state': '', 'energy': '-', 'carbohydrates': '-', 'protein': '-', 'total_lipid': '-'}\n",
      "{'ingredient_name': 'toothpick', 'quantity': '', 'unit': '', 'state': '', 'energy': '-', 'carbohydrates': '-', 'protein': '-', 'total_lipid': '-'}\n",
      "{'ingredient_name': 'cool whip', 'quantity': '', 'unit': '', 'state': 'whipped', 'energy': '-', 'carbohydrates': '-', 'protein': '-', 'total_lipid': '-'}\n"
     ]
    }
   ],
   "source": [
    "# Initialize a list to store ingredient objects\n",
    "ingredient_list = []\n",
    "\n",
    "# Find all rows in the table\n",
    "rows = bottom_table.select('tbody tr')\n",
    "\n",
    "# Iterate over each row\n",
    "for row in rows:\n",
    "    # Extract data from each column in the row\n",
    "    columns = row.find_all('td')\n",
    "    \n",
    "    # Accessing data from each column\n",
    "    ingredient_name = columns[0].a.text.strip()\n",
    "    quantity = columns[1].text.strip()\n",
    "    unit = columns[2].text.strip()\n",
    "    state = columns[3].text.strip()\n",
    "    energy = columns[4].text.strip()\n",
    "    carbohydrates = columns[5].text.strip()\n",
    "    protein = columns[6].text.strip()\n",
    "    total_lipid = columns[7].text.strip()\n",
    "\n",
    "    # Create a dictionary representing the ingredient\n",
    "    ingredient = {\n",
    "        'ingredient_name': ingredient_name,\n",
    "        'quantity': quantity,\n",
    "        'unit': unit,\n",
    "        'state': state,\n",
    "        'energy': energy,\n",
    "        'carbohydrates': carbohydrates,\n",
    "        'protein': protein,\n",
    "        'total_lipid': total_lipid\n",
    "    }\n",
    "\n",
    "    # Append the ingredient dictionary to the list\n",
    "    ingredient_list.append(ingredient)\n",
    "\n",
    "# Print the list of ingredient objects\n",
    "for ingredient in ingredient_list:\n",
    "    print(ingredient)"
   ]
  },
  {
   "cell_type": "code",
   "execution_count": 25,
   "id": "b3daab22",
   "metadata": {},
   "outputs": [],
   "source": [
    "# Initialize a list to store ingredient names\n",
    "ingredient_names = []\n",
    "\n",
    "# Find all rows in the table\n",
    "rows = bottom_table.select('tbody tr')\n",
    "\n",
    "# Iterate over each row\n",
    "for row in rows:\n",
    "    # Extract data from the first column (ingredient name)\n",
    "    ingredient_name = row.select_one('td:nth-child(1) a').text.strip()\n",
    "    \n",
    "    # Append the ingredient name to the list\n",
    "    ingredient_names.append(ingredient_name)"
   ]
  },
  {
   "cell_type": "code",
   "execution_count": 26,
   "id": "51665a04",
   "metadata": {},
   "outputs": [],
   "source": [
    "half_link = \"https://cosylab.iiitd.edu.in/flavordb/food_pairing?id=\""
   ]
  },
  {
   "cell_type": "code",
   "execution_count": 27,
   "id": "645910a5",
   "metadata": {},
   "outputs": [
    {
     "name": "stderr",
     "output_type": "stream",
     "text": [
      "/var/folders/dd/lh0x43092pq51783xltv1jn00000gn/T/ipykernel_2067/2818721015.py:6: FutureWarning: The frame.append method is deprecated and will be removed from pandas in a future version. Use pandas.concat instead.\n",
      "  filtered_data = filtered_data.append(ingredient_row, ignore_index=True)\n"
     ]
    },
    {
     "data": {
      "text/html": [
       "<div>\n",
       "<style scoped>\n",
       "    .dataframe tbody tr th:only-of-type {\n",
       "        vertical-align: middle;\n",
       "    }\n",
       "\n",
       "    .dataframe tbody tr th {\n",
       "        vertical-align: top;\n",
       "    }\n",
       "\n",
       "    .dataframe thead th {\n",
       "        text-align: right;\n",
       "    }\n",
       "</style>\n",
       "<table border=\"1\" class=\"dataframe\">\n",
       "  <thead>\n",
       "    <tr style=\"text-align: right;\">\n",
       "      <th></th>\n",
       "      <th>Aliased Ingredient Name</th>\n",
       "      <th>Ingredient Synonyms</th>\n",
       "      <th>Entity ID</th>\n",
       "      <th>Category</th>\n",
       "    </tr>\n",
       "  </thead>\n",
       "  <tbody>\n",
       "    <tr>\n",
       "      <th>0</th>\n",
       "      <td>Sugar</td>\n",
       "      <td>sugar</td>\n",
       "      <td>781</td>\n",
       "      <td>Additive</td>\n",
       "    </tr>\n",
       "    <tr>\n",
       "      <th>1</th>\n",
       "      <td>Rum</td>\n",
       "      <td>rum</td>\n",
       "      <td>24</td>\n",
       "      <td>Beverage Alcoholic</td>\n",
       "    </tr>\n",
       "    <tr>\n",
       "      <th>2</th>\n",
       "      <td>Nutmeg</td>\n",
       "      <td>nutmeg</td>\n",
       "      <td>336</td>\n",
       "      <td>Spice</td>\n",
       "    </tr>\n",
       "    <tr>\n",
       "      <th>3</th>\n",
       "      <td>Salt</td>\n",
       "      <td>salt</td>\n",
       "      <td>778</td>\n",
       "      <td>Additive</td>\n",
       "    </tr>\n",
       "  </tbody>\n",
       "</table>\n",
       "</div>"
      ],
      "text/plain": [
       "  Aliased Ingredient Name Ingredient Synonyms  Entity ID            Category\n",
       "0                   Sugar               sugar        781            Additive\n",
       "1                     Rum                 rum         24  Beverage Alcoholic\n",
       "2                  Nutmeg              nutmeg        336               Spice\n",
       "3                    Salt                salt        778            Additive"
      ]
     },
     "execution_count": 27,
     "metadata": {},
     "output_type": "execute_result"
    }
   ],
   "source": [
    "import pandas as pd\n",
    "in_db = pd.read_csv(\"02_ingredients.csv\")\n",
    "filtered_data = pd.DataFrame()\n",
    "for ingredient in ingredient_names:\n",
    "    ingredient_row = in_db[in_db['Ingredient Synonyms'] == ingredient]\n",
    "    filtered_data = filtered_data.append(ingredient_row, ignore_index=True)\n",
    "\n",
    "filtered_data.head()"
   ]
  },
  {
   "cell_type": "code",
   "execution_count": 73,
   "id": "21ff0d17",
   "metadata": {},
   "outputs": [
    {
     "name": "stdout",
     "output_type": "stream",
     "text": [
      "https://cosylab.iiitd.edu.in/flavordb/food_pairing?id=781\n"
     ]
    }
   ],
   "source": [
    "# Initialize an empty array to store ingredient links\n",
    "ingredient_links = []\n",
    "\n",
    "# Loop through each row in filtered_data\n",
    "for index, row in filtered_data.iterrows():\n",
    "    # Extract the Entity ID from the current row\n",
    "    entity_id = row['Entity ID']\n",
    "    \n",
    "    # Create the full link by appending the Entity ID to the half_link\n",
    "    full_link = f\"https://cosylab.iiitd.edu.in/flavordb/food_pairing?id={entity_id}\"\n",
    "    \n",
    "    # Append the full link to the ingredient_links array\n",
    "    ingredient_links.append(full_link)\n",
    "\n",
    "# Print the resulting array of links\n",
    "print(ingredient_links[0])"
   ]
  },
  {
   "cell_type": "code",
   "execution_count": 74,
   "id": "3f7c615d",
   "metadata": {},
   "outputs": [
    {
     "data": {
      "text/plain": [
       "'\\nStep 1 = Get the list of recipe ids from first csv\\nStep 2 = Get the ingredient recipe pairs from fourth csv\\nStep 3 = Among all the ingredients in the fourth csv. We find the ingredient frequencies for all ingredients.\\nStep 4 = Then we find the sum of ingredient frequency of all the recipes in the cuisine.\\nStep 5 = Then we find the rank of our recipe among all the recipes in the cuisine.\\n'"
      ]
     },
     "execution_count": 74,
     "metadata": {},
     "output_type": "execute_result"
    }
   ],
   "source": [
    "'''\n",
    "Step 1 = Get the list of recipe ids from first csv\n",
    "Step 2 = Get the ingredient recipe pairs from fourth csv\n",
    "Step 3 = Among all the ingredients in the fourth csv. We find the ingredient frequencies for all ingredients.\n",
    "Step 4 = Then we find the sum of ingredient frequency of all the recipes in the cuisine.\n",
    "Step 5 = Then we find the rank of our recipe among all the recipes in the cuisine.\n",
    "'''"
   ]
  },
  {
   "cell_type": "code",
   "execution_count": 81,
   "id": "e29a83e0",
   "metadata": {},
   "outputs": [
    {
     "name": "stdout",
     "output_type": "stream",
     "text": [
      "Number of rows where Total Frequency is greater than or equal to 44834: 7792\n",
      "Percentile of Popularity: 82.97\n"
     ]
    }
   ],
   "source": [
    "import pandas as pd\n",
    "\n",
    "one = pd.read_csv(\"01_Recipe_Details.csv\")\n",
    "one.columns\n",
    "\n",
    "african = one[one['Cuisine'] == 'Africa']\n",
    "recipe_id = african['Recipe ID'].unique()\n",
    "\n",
    "'''Next'''\n",
    "four = pd.read_csv(\"04_Recipe-Ingredients_Aliases.csv\")\n",
    "filtered_four = four[four['Recipe ID'].isin(recipe_id)]\n",
    "\n",
    "occurrences = []\n",
    "\n",
    "for ingredient in ingredient_names:\n",
    "    count = four['Aliased Ingredient Name'].str.contains(ingredient).sum()\n",
    "    occurrences.append((ingredient, count))\n",
    "\n",
    "# Convert results to DataFrame for better presentation\n",
    "result_df = pd.DataFrame(occurrences, columns=['Ingredient', 'Occurrence Count'])\n",
    "\n",
    "# Display the result\n",
    "# print(result_df)\n",
    "\n",
    "'''Next'''\n",
    "total_occurrences = result_df['Occurrence Count'].sum()\n",
    "\n",
    "# Display the result\n",
    "# print(f\"Total Occurrences: {total_occurrences}\")\n",
    "\n",
    "'''Next'''\n",
    "import pandas as pd\n",
    "\n",
    "# Read the CSV file\n",
    "four = pd.read_csv(\"04_Recipe-Ingredients_Aliases.csv\")\n",
    "\n",
    "# Group by 'Entity ID' and count unique occurrences of 'Aliased Ingredient Name'\n",
    "ingredient_count = four.groupby(['Entity ID', 'Aliased Ingredient Name']).size().reset_index(name='Count')\n",
    "\n",
    "# Display the result\n",
    "# print(ingredient_count)\n",
    "\n",
    "'''Next'''\n",
    "merged_df = pd.merge(four, ingredient_count, on='Entity ID')\n",
    "\n",
    "# Group by 'Recipe ID' and sum the ingredient frequencies\n",
    "recipe_ingredient_frequencies = merged_df.groupby('Recipe ID')['Count'].sum().reset_index(name='Total Frequency')\n",
    "\n",
    "# Display the result\n",
    "# print(recipe_ingredient_frequencies)\n",
    "\n",
    "'''Next'''\n",
    "# Read the CSV file\n",
    "four = pd.read_csv(\"04_Recipe-Ingredients_Aliases.csv\")\n",
    "\n",
    "# Group by 'Entity ID' and count unique occurrences of 'Aliased Ingredient Name'\n",
    "ingredient_count = four.groupby(['Entity ID', 'Aliased Ingredient Name']).size().reset_index(name='Count')\n",
    "\n",
    "# Display the result\n",
    "# print(ingredient_count)\n",
    "\n",
    "'''Next'''\n",
    "num_rows_greater_than_equal = len(filtered_four)\n",
    "total_recipes = len(recipe_ingredient_frequencies)\n",
    "\n",
    "# Calculate the percentage\n",
    "percentage_more_popular = (num_rows_greater_than_equal / total_recipes) * 100\n",
    "\n",
    "# Display the result\n",
    "print(f\"Number of rows where Total Frequency is greater than or equal to {total_occurrences}: {num_rows_greater_than_equal}\")\n",
    "print(f\"Percentile of Popularity: {100-percentage_more_popular:.2f}\")"
   ]
  },
  {
   "cell_type": "code",
   "execution_count": null,
   "id": "e272b802",
   "metadata": {},
   "outputs": [],
   "source": []
  }
 ],
 "metadata": {
  "kernelspec": {
   "display_name": "Python 3 (ipykernel)",
   "language": "python",
   "name": "python3"
  },
  "language_info": {
   "codemirror_mode": {
    "name": "ipython",
    "version": 3
   },
   "file_extension": ".py",
   "mimetype": "text/x-python",
   "name": "python",
   "nbconvert_exporter": "python",
   "pygments_lexer": "ipython3",
   "version": "3.11.4"
  }
 },
 "nbformat": 4,
 "nbformat_minor": 5
}
